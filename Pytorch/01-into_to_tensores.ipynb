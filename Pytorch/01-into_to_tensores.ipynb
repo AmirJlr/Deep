{
  "nbformat": 4,
  "nbformat_minor": 0,
  "metadata": {
    "colab": {
      "provenance": []
    },
    "kernelspec": {
      "name": "python3",
      "display_name": "Python 3"
    },
    "language_info": {
      "name": "python"
    },
    "accelerator": "GPU",
    "gpuClass": "standard"
  },
  "cells": [
    {
      "cell_type": "code",
      "execution_count": 3,
      "metadata": {
        "id": "KTk2xHU7dn_d",
        "pycharm": {
          "name": "#%%\n"
        }
      },
      "outputs": [],
      "source": [
        "import torch\n",
        "import numpy as np"
      ]
    },
    {
      "cell_type": "code",
      "source": [
        "torch.__version__"
      ],
      "metadata": {
        "colab": {
          "base_uri": "https://localhost:8080/",
          "height": 35
        },
        "id": "rqdwkJsdehu8",
        "outputId": "c35d8779-f359-4ca6-9458-f26675e7db4d",
        "pycharm": {
          "name": "#%%\n"
        }
      },
      "execution_count": 4,
      "outputs": [
        {
          "output_type": "execute_result",
          "data": {
            "text/plain": [
              "'2.0.0+cu118'"
            ],
            "application/vnd.google.colaboratory.intrinsic+json": {
              "type": "string"
            }
          },
          "metadata": {},
          "execution_count": 4
        }
      ]
    },
    {
      "cell_type": "code",
      "source": [
        "#====================================================#\n",
        "#                Initialize Tensor                   #\n",
        "#====================================================#"
      ],
      "metadata": {
        "id": "PQMZPI6kypeT"
      },
      "execution_count": 5,
      "outputs": []
    },
    {
      "cell_type": "code",
      "source": [
        "device = 'cuda' if torch.cuda.is_available() else 'cpu'"
      ],
      "metadata": {
        "id": "qCZuiaryGFvz"
      },
      "execution_count": 6,
      "outputs": []
    },
    {
      "cell_type": "code",
      "source": [
        "my_tensor = torch.tensor([[1, 2, 3], [4, 5, 6]], dtype = torch.float32, \n",
        "                         device=device, requires_grad=True)\n",
        "my_tensor"
      ],
      "metadata": {
        "id": "Dl4q-8XIy6Ay",
        "colab": {
          "base_uri": "https://localhost:8080/"
        },
        "outputId": "6e697756-0ad5-441a-da4b-4d278f0e1473"
      },
      "execution_count": 7,
      "outputs": [
        {
          "output_type": "execute_result",
          "data": {
            "text/plain": [
              "tensor([[1., 2., 3.],\n",
              "        [4., 5., 6.]], device='cuda:0', requires_grad=True)"
            ]
          },
          "metadata": {},
          "execution_count": 7
        }
      ]
    },
    {
      "cell_type": "code",
      "source": [
        "print(my_tensor.shape)\n",
        "print(my_tensor.dtype)\n",
        "print(my_tensor.device)\n",
        "print(my_tensor.requires_grad)"
      ],
      "metadata": {
        "colab": {
          "base_uri": "https://localhost:8080/"
        },
        "id": "lyll0McDFTPL",
        "outputId": "bad4253f-4510-4b32-ebba-27f506c4d4e4"
      },
      "execution_count": 8,
      "outputs": [
        {
          "output_type": "stream",
          "name": "stdout",
          "text": [
            "torch.Size([2, 3])\n",
            "torch.float32\n",
            "cuda:0\n",
            "True\n"
          ]
        }
      ]
    },
    {
      "cell_type": "code",
      "source": [
        "torch.empty(size=(3, 3))"
      ],
      "metadata": {
        "colab": {
          "base_uri": "https://localhost:8080/"
        },
        "id": "VFV6jZuEHK6r",
        "outputId": "df4f428b-71e3-46e0-e6f9-096806642cb1"
      },
      "execution_count": 9,
      "outputs": [
        {
          "output_type": "execute_result",
          "data": {
            "text/plain": [
              "tensor([[0.0000e+00, 0.0000e+00, 0.0000e+00],\n",
              "        [0.0000e+00, 1.1244e-33, 0.0000e+00],\n",
              "        [5.8046e-35, 0.0000e+00, 5.6768e+32]])"
            ]
          },
          "metadata": {},
          "execution_count": 9
        }
      ]
    },
    {
      "cell_type": "code",
      "source": [
        "torch.zeros(size = (3, 3))"
      ],
      "metadata": {
        "colab": {
          "base_uri": "https://localhost:8080/"
        },
        "id": "pcQHWcjEHfWT",
        "outputId": "26be1371-ebdf-4cbe-c913-ef6c82d768d2"
      },
      "execution_count": 10,
      "outputs": [
        {
          "output_type": "execute_result",
          "data": {
            "text/plain": [
              "tensor([[0., 0., 0.],\n",
              "        [0., 0., 0.],\n",
              "        [0., 0., 0.]])"
            ]
          },
          "metadata": {},
          "execution_count": 10
        }
      ]
    },
    {
      "cell_type": "code",
      "source": [
        "x = torch.rand(size=(2, 5, 3))\n",
        "x"
      ],
      "metadata": {
        "colab": {
          "base_uri": "https://localhost:8080/"
        },
        "id": "5BLYsw9vHpSf",
        "outputId": "92d23944-e4c8-4305-968c-d8593faf7e8d"
      },
      "execution_count": 11,
      "outputs": [
        {
          "output_type": "execute_result",
          "data": {
            "text/plain": [
              "tensor([[[0.2567, 0.5799, 0.8325],\n",
              "         [0.8636, 0.5864, 0.9318],\n",
              "         [0.4329, 0.1731, 0.8337],\n",
              "         [0.2909, 0.3370, 0.0359],\n",
              "         [0.9187, 0.0175, 0.8057]],\n",
              "\n",
              "        [[0.0483, 0.7646, 0.8031],\n",
              "         [0.4016, 0.8551, 0.8839],\n",
              "         [0.4049, 0.5214, 0.8941],\n",
              "         [0.4715, 0.5780, 0.3683],\n",
              "         [0.8212, 0.7145, 0.1359]]])"
            ]
          },
          "metadata": {},
          "execution_count": 11
        }
      ]
    },
    {
      "cell_type": "code",
      "source": [
        "torch.ones_like(x)"
      ],
      "metadata": {
        "colab": {
          "base_uri": "https://localhost:8080/"
        },
        "id": "0ZhqsUKaHxDK",
        "outputId": "56d0df84-839f-4642-f8ba-3930daa5c9d6"
      },
      "execution_count": 12,
      "outputs": [
        {
          "output_type": "execute_result",
          "data": {
            "text/plain": [
              "tensor([[[1., 1., 1.],\n",
              "         [1., 1., 1.],\n",
              "         [1., 1., 1.],\n",
              "         [1., 1., 1.],\n",
              "         [1., 1., 1.]],\n",
              "\n",
              "        [[1., 1., 1.],\n",
              "         [1., 1., 1.],\n",
              "         [1., 1., 1.],\n",
              "         [1., 1., 1.],\n",
              "         [1., 1., 1.]]])"
            ]
          },
          "metadata": {},
          "execution_count": 12
        }
      ]
    },
    {
      "cell_type": "code",
      "source": [
        "torch.eye(4)"
      ],
      "metadata": {
        "colab": {
          "base_uri": "https://localhost:8080/"
        },
        "id": "oOtc2svFH4eA",
        "outputId": "63d588db-e521-40f4-924f-cb67dcbf8df6"
      },
      "execution_count": 13,
      "outputs": [
        {
          "output_type": "execute_result",
          "data": {
            "text/plain": [
              "tensor([[1., 0., 0., 0.],\n",
              "        [0., 1., 0., 0.],\n",
              "        [0., 0., 1., 0.],\n",
              "        [0., 0., 0., 1.]])"
            ]
          },
          "metadata": {},
          "execution_count": 13
        }
      ]
    },
    {
      "cell_type": "code",
      "source": [
        "torch.arange(0, 16, 3)"
      ],
      "metadata": {
        "colab": {
          "base_uri": "https://localhost:8080/"
        },
        "id": "3O1GTIsXIQYg",
        "outputId": "54a9947b-3b7b-4115-bac4-9e58a64a7c82"
      },
      "execution_count": 14,
      "outputs": [
        {
          "output_type": "execute_result",
          "data": {
            "text/plain": [
              "tensor([ 0,  3,  6,  9, 12, 15])"
            ]
          },
          "metadata": {},
          "execution_count": 14
        }
      ]
    },
    {
      "cell_type": "code",
      "source": [
        "torch.linspace(0, 12, 5)"
      ],
      "metadata": {
        "colab": {
          "base_uri": "https://localhost:8080/"
        },
        "id": "-odl8FduIbgh",
        "outputId": "82c16c65-96e2-4e86-bfd4-726eec9947da"
      },
      "execution_count": 15,
      "outputs": [
        {
          "output_type": "execute_result",
          "data": {
            "text/plain": [
              "tensor([ 0.,  3.,  6.,  9., 12.])"
            ]
          },
          "metadata": {},
          "execution_count": 15
        }
      ]
    },
    {
      "cell_type": "code",
      "source": [
        "torch.empty((1, 6)).normal_(mean =0, std =1)"
      ],
      "metadata": {
        "colab": {
          "base_uri": "https://localhost:8080/"
        },
        "id": "s-2coEWIIq07",
        "outputId": "9cd7bf15-79ca-4a79-d32a-5fa38dbcda38"
      },
      "execution_count": 16,
      "outputs": [
        {
          "output_type": "execute_result",
          "data": {
            "text/plain": [
              "tensor([[ 0.0814, -0.8148, -0.4818, -1.4892,  0.7749, -1.5615]])"
            ]
          },
          "metadata": {},
          "execution_count": 16
        }
      ]
    },
    {
      "cell_type": "code",
      "source": [
        "torch.empty((1, 6)).uniform_(0, 4)"
      ],
      "metadata": {
        "colab": {
          "base_uri": "https://localhost:8080/"
        },
        "id": "2TiS_P8MKAd6",
        "outputId": "e8fed2aa-0f62-4a7a-9335-99beca053291"
      },
      "execution_count": 17,
      "outputs": [
        {
          "output_type": "execute_result",
          "data": {
            "text/plain": [
              "tensor([[2.1990, 0.0587, 3.4862, 3.1042, 1.6524, 0.4310]])"
            ]
          },
          "metadata": {},
          "execution_count": 17
        }
      ]
    },
    {
      "cell_type": "code",
      "source": [
        "torch.diag(torch.arange(4, 16, 3))"
      ],
      "metadata": {
        "colab": {
          "base_uri": "https://localhost:8080/"
        },
        "id": "TGkC5pLHKPRx",
        "outputId": "c78cc134-ccb2-40bd-81e2-fda5fd6d404a"
      },
      "execution_count": 18,
      "outputs": [
        {
          "output_type": "execute_result",
          "data": {
            "text/plain": [
              "tensor([[ 4,  0,  0,  0],\n",
              "        [ 0,  7,  0,  0],\n",
              "        [ 0,  0, 10,  0],\n",
              "        [ 0,  0,  0, 13]])"
            ]
          },
          "metadata": {},
          "execution_count": 18
        }
      ]
    },
    {
      "cell_type": "code",
      "source": [
        "# how to initialize and convert tensors to other types(int, float, double)"
      ],
      "metadata": {
        "id": "NNKKu0VNKcpa"
      },
      "execution_count": 19,
      "outputs": []
    },
    {
      "cell_type": "code",
      "source": [
        "tensor = torch.arange(4)\n",
        "print(tensor)\n",
        "print(tensor.bool())\n",
        "print(tensor.short())\n",
        "print(tensor.long().dtype)\n",
        "print(tensor.half())\n",
        "print(tensor.float().dtype)"
      ],
      "metadata": {
        "colab": {
          "base_uri": "https://localhost:8080/"
        },
        "id": "qx2_OovMLRZ-",
        "outputId": "1c23a758-a32a-4e5f-d9e5-a1c7e35ba6a2"
      },
      "execution_count": 20,
      "outputs": [
        {
          "output_type": "stream",
          "name": "stdout",
          "text": [
            "tensor([0, 1, 2, 3])\n",
            "tensor([False,  True,  True,  True])\n",
            "tensor([0, 1, 2, 3], dtype=torch.int16)\n",
            "torch.int64\n",
            "tensor([0., 1., 2., 3.], dtype=torch.float16)\n",
            "torch.float32\n"
          ]
        }
      ]
    },
    {
      "cell_type": "code",
      "source": [
        "# array to tensor conversion and vice-versa"
      ],
      "metadata": {
        "id": "GZj_t6tZLoN2"
      },
      "execution_count": 21,
      "outputs": []
    },
    {
      "cell_type": "code",
      "source": [
        "np_array = np.zeros((3, 4))\n",
        "tensor = torch.from_numpy(np_array)\n",
        "np_back = tensor.numpy()"
      ],
      "metadata": {
        "id": "B-Ylb1ykMnOo"
      },
      "execution_count": 22,
      "outputs": []
    },
    {
      "cell_type": "code",
      "source": [
        "#====================================================#\n",
        "#        Tensor Math & Comparison Operations         #\n",
        "#====================================================#"
      ],
      "metadata": {
        "id": "Whp7deA6NEZz"
      },
      "execution_count": 23,
      "outputs": []
    },
    {
      "cell_type": "code",
      "source": [
        "x = torch.tensor([1, 2, 3])\n",
        "y = torch.tensor([9, 8, 7])\n",
        "\n",
        "\n",
        "\n",
        "# Addition\n",
        "z1 = torch.empty(3)\n",
        "torch.add(x,y, out=z1)\n",
        "\n",
        "z2 = torch.add(x, y)\n",
        "\n",
        "z3 = x + y\n",
        "\n",
        "# Subtraction \n",
        "z = x - y"
      ],
      "metadata": {
        "id": "iQgfhIoHRpHo"
      },
      "execution_count": 30,
      "outputs": []
    },
    {
      "cell_type": "code",
      "source": [
        "# Division\n",
        "print(torch.true_divide(x, y))\n",
        "print(torch.true_divide(x, 2))"
      ],
      "metadata": {
        "colab": {
          "base_uri": "https://localhost:8080/"
        },
        "id": "yY1qVnsSSBB4",
        "outputId": "f0c7d2c7-db62-43e5-8de1-e2a98b39e9f3"
      },
      "execution_count": 32,
      "outputs": [
        {
          "output_type": "stream",
          "name": "stdout",
          "text": [
            "tensor([0.1111, 0.2500, 0.4286])\n",
            "tensor([0.5000, 1.0000, 1.5000])\n"
          ]
        }
      ]
    },
    {
      "cell_type": "code",
      "source": [
        "# inplace operations (more computationally efficient)\n",
        "t = torch.zeros(3)\n",
        "t.add_(x)\n",
        "t += x "
      ],
      "metadata": {
        "id": "VraD3gy7SRx1"
      },
      "execution_count": 33,
      "outputs": []
    },
    {
      "cell_type": "code",
      "source": [
        "x.pow(3)\n",
        "x ** 2"
      ],
      "metadata": {
        "colab": {
          "base_uri": "https://localhost:8080/"
        },
        "id": "tNkkh00hUXGw",
        "outputId": "b5c6a2bc-912e-4a16-938b-9177b07f471a"
      },
      "execution_count": 36,
      "outputs": [
        {
          "output_type": "execute_result",
          "data": {
            "text/plain": [
              "tensor([1, 4, 9])"
            ]
          },
          "metadata": {},
          "execution_count": 36
        }
      ]
    },
    {
      "cell_type": "code",
      "source": [
        "# Mat Mul\n",
        "x1 = torch.rand(3, 4)\n",
        "x2 = torch.rand(4, 2)\n",
        "\n",
        "torch.mm(x1, x2) ==  x1 @ x2\n"
      ],
      "metadata": {
        "colab": {
          "base_uri": "https://localhost:8080/"
        },
        "id": "N4EaFszQUYyO",
        "outputId": "4402bb87-3fbd-449d-fecd-b62cc68365c3"
      },
      "execution_count": 39,
      "outputs": [
        {
          "output_type": "execute_result",
          "data": {
            "text/plain": [
              "tensor([[True, True],\n",
              "        [True, True],\n",
              "        [True, True]])"
            ]
          },
          "metadata": {},
          "execution_count": 39
        }
      ]
    },
    {
      "cell_type": "code",
      "source": [
        "mat_exp = torch.rand(5, 5)\n",
        "mat_exp.matrix_power(2)"
      ],
      "metadata": {
        "colab": {
          "base_uri": "https://localhost:8080/"
        },
        "id": "d4p83sooVCnG",
        "outputId": "94ae5ead-2a9b-4801-f876-2a9cbd2ce3c4"
      },
      "execution_count": 40,
      "outputs": [
        {
          "output_type": "execute_result",
          "data": {
            "text/plain": [
              "tensor([[0.9387, 1.0326, 1.5153, 0.6857, 1.0439],\n",
              "        [0.4130, 1.0453, 1.0060, 0.7674, 0.7133],\n",
              "        [0.2877, 0.7005, 0.8249, 0.5755, 0.6459],\n",
              "        [1.1127, 1.3208, 1.9232, 0.9247, 1.2346],\n",
              "        [0.6738, 0.7699, 1.1699, 0.5696, 0.8607]])"
            ]
          },
          "metadata": {},
          "execution_count": 40
        }
      ]
    },
    {
      "cell_type": "code",
      "source": [
        "# element wise \n",
        "x * y"
      ],
      "metadata": {
        "colab": {
          "base_uri": "https://localhost:8080/"
        },
        "id": "RnTKfXQ2Wh3F",
        "outputId": "81763d71-af9f-4f4e-cb10-74387775db7d"
      },
      "execution_count": 44,
      "outputs": [
        {
          "output_type": "execute_result",
          "data": {
            "text/plain": [
              "tensor([ 9, 16, 21])"
            ]
          },
          "metadata": {},
          "execution_count": 44
        }
      ]
    },
    {
      "cell_type": "code",
      "source": [
        "# dot product\n",
        "torch.dot(x, y)"
      ],
      "metadata": {
        "colab": {
          "base_uri": "https://localhost:8080/"
        },
        "id": "gcbDkFqjWw3p",
        "outputId": "b9d085f2-2218-4416-97b5-857503dc87be"
      },
      "execution_count": 45,
      "outputs": [
        {
          "output_type": "execute_result",
          "data": {
            "text/plain": [
              "tensor(46)"
            ]
          },
          "metadata": {},
          "execution_count": 45
        }
      ]
    },
    {
      "cell_type": "code",
      "source": [
        "# Batch Matrix Multiplication\n",
        "\n",
        "batch = 32\n",
        "n = 10\n",
        "m = 20\n",
        "p = 30"
      ],
      "metadata": {
        "id": "9FWcZN6zW6Zl"
      },
      "execution_count": 46,
      "outputs": []
    },
    {
      "cell_type": "code",
      "source": [
        "tensor1 = torch.rand((batch, n, m))\n",
        "tensor2 = torch.rand((batch, m, p))"
      ],
      "metadata": {
        "id": "mNkXSHkwYYBR"
      },
      "execution_count": 50,
      "outputs": []
    },
    {
      "cell_type": "code",
      "source": [
        "out_bmm = torch.bmm(tensor1, tensor2) # batch, n, p"
      ],
      "metadata": {
        "id": "FgfQza9WYj6L"
      },
      "execution_count": 52,
      "outputs": []
    },
    {
      "cell_type": "code",
      "source": [
        "# Broadcasting\n",
        "x1 = torch.rand(5, 5)\n",
        "x2 = torch.rand(1, 5)\n",
        "\n",
        "z = x1 - x2"
      ],
      "metadata": {
        "id": "ZO494W49ZSQ1"
      },
      "execution_count": 53,
      "outputs": []
    },
    {
      "cell_type": "code",
      "source": [
        " "
      ],
      "metadata": {
        "id": "W7qneSO-aEUK"
      },
      "execution_count": null,
      "outputs": []
    }
  ]
}